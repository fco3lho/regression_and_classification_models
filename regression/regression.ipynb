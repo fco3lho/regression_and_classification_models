{
  "nbformat": 4,
  "nbformat_minor": 0,
  "metadata": {
    "colab": {
      "provenance": []
    },
    "kernelspec": {
      "name": "python3",
      "display_name": "Python 3"
    },
    "language_info": {
      "name": "python"
    }
  },
  "cells": [
    {
      "cell_type": "code",
      "execution_count": null,
      "metadata": {
        "id": "A_JDOj-bmlvP"
      },
      "outputs": [],
      "source": [
        "from sklearn.model_selection import train_test_split\n",
        "from sklearn.preprocessing import LabelEncoder\n",
        "from sklearn.linear_model import LinearRegression\n",
        "from sklearn.ensemble import RandomForestRegressor\n",
        "from xgboost import XGBRegressor\n",
        "from sklearn.metrics import mean_squared_error, mean_absolute_error, r2_score\n",
        "import pandas as pd\n",
        "import numpy as np\n",
        "import matplotlib.pyplot as plt\n",
        "import seaborn as sns"
      ]
    },
    {
      "cell_type": "code",
      "source": [
        "# Caminhos dos arquivos\n",
        "insurance_path = \"./insurance.csv\"\n",
        "boston_path = \"./boston.csv\"\n",
        "power_path = \"./household_power_consumption.txt\"\n",
        "\n",
        "# Carregar os datasets\n",
        "insurance_df = pd.read_csv(insurance_path)\n",
        "boston_df = pd.read_csv(boston_path)\n",
        "power_df = pd.read_csv(power_path, sep=';', na_values=['?'], low_memory=False, dtype=str)\n",
        "\n",
        "# Exibir informações básicas dos datasets\n",
        "print(insurance_df.info())\n",
        "print(boston_df.info())\n",
        "print(power_df.info())"
      ],
      "metadata": {
        "id": "llnYErW9mviB"
      },
      "execution_count": null,
      "outputs": []
    },
    {
      "cell_type": "code",
      "source": [
        "# Pré-processamento do dataset de Insurance\n",
        "insurance_df_encoded = insurance_df.copy()\n",
        "label_encoders = {}\n",
        "categorical_columns = [\"sex\", \"smoker\", \"region\"]\n",
        "for col in categorical_columns:\n",
        "    le = LabelEncoder()\n",
        "    insurance_df_encoded[col] = le.fit_transform(insurance_df_encoded[col])\n",
        "    label_encoders[col] = le\n",
        "X_insurance = insurance_df_encoded.drop(columns=[\"charges\"])\n",
        "y_insurance = insurance_df_encoded[\"charges\"]\n",
        "X_train_ins, X_test_ins, y_train_ins, y_test_ins = train_test_split(X_insurance, y_insurance, test_size=0.2, random_state=42)\n",
        "\n",
        "# Pré-processamento do dataset de Boston\n",
        "X_boston = boston_df.drop(columns=[\"MEDV\"])\n",
        "y_boston = boston_df[\"MEDV\"]\n",
        "X_train_bos, X_test_bos, y_train_bos, y_test_bos = train_test_split(X_boston, y_boston, test_size=0.2, random_state=42)\n",
        "\n",
        "# Pré-processamento do dataset de Power Consumption\n",
        "power_df.dropna(inplace=True)\n",
        "power_df.drop(columns=['Date', 'Time'], inplace=True)\n",
        "power_df = power_df.astype(float)\n",
        "X_power = power_df.drop(columns=[\"Global_active_power\"])\n",
        "y_power = power_df[\"Global_active_power\"]\n",
        "X_train_pow, X_test_pow, y_train_pow, y_test_pow = train_test_split(X_power, y_power, test_size=0.2, random_state=42)"
      ],
      "metadata": {
        "id": "Tk2_V-VVmxOF"
      },
      "execution_count": null,
      "outputs": []
    },
    {
      "cell_type": "code",
      "source": [
        "# Lista de modelos\n",
        "models = {\n",
        "    \"Linear Regression\": LinearRegression(),\n",
        "    \"Random Forest\": RandomForestRegressor(n_estimators=100, random_state=42, n_jobs=-1),\n",
        "    \"XGBoost\": XGBRegressor(n_estimators=100, random_state=42, n_jobs=-1)\n",
        "}\n",
        "\n",
        "# Função para treinar e avaliar modelos\n",
        "def train_and_evaluate(models, X_train, y_train, X_test, y_test):\n",
        "    results = {}\n",
        "    predictions = {}\n",
        "    for name, model in models.items():\n",
        "        errors = {\"RMSE\": [], \"MAE\": [], \"R2\": []}\n",
        "        last_y_pred = None\n",
        "        for _ in range(30):\n",
        "            model.fit(X_train, y_train)\n",
        "            y_pred = model.predict(X_test)\n",
        "            last_y_pred = y_pred\n",
        "            errors[\"RMSE\"].append(np.sqrt(mean_squared_error(y_test, y_pred)))\n",
        "            errors[\"MAE\"].append(mean_absolute_error(y_test, y_pred))\n",
        "            errors[\"R2\"].append(r2_score(y_test, y_pred))\n",
        "        results[name] = {\n",
        "            \"RMSE\": np.mean(errors[\"RMSE\"]),\n",
        "            \"MAE\": np.mean(errors[\"MAE\"]),\n",
        "            \"R2\": np.mean(errors[\"R2\"])\n",
        "        }\n",
        "        predictions[name] = {\"y_real\": y_test, \"y_pred\": last_y_pred}\n",
        "    return results, predictions\n",
        "\n",
        "results_insurance, preds_insurance = train_and_evaluate(models, X_train_ins, y_train_ins, X_test_ins, y_test_ins)\n",
        "results_boston, preds_boston = train_and_evaluate(models, X_train_bos, y_train_bos, X_test_bos, y_test_bos)\n",
        "results_power, preds_power = train_and_evaluate(models, X_train_pow, y_train_pow, X_test_pow, y_test_pow)\n",
        "\n",
        "print(\"\\nresults_insurance: \", results_insurance)\n",
        "print(\"\\nresults_boston: \", results_boston)\n",
        "print(\"\\nresults_power: \", results_power)"
      ],
      "metadata": {
        "id": "mg10luHBm10d"
      },
      "execution_count": null,
      "outputs": []
    },
    {
      "cell_type": "code",
      "source": [
        "# Função para plotar gráficos de dispersão\n",
        "def plot_scatter(predictions, dataset_name):\n",
        "    plt.figure(figsize=(15, 5))\n",
        "\n",
        "    for i, (model, data) in enumerate(predictions.items()):\n",
        "        plt.subplot(1, 3, i+1)\n",
        "        sns.scatterplot(x=data[\"y_real\"], y=data[\"y_pred\"], alpha=0.6)\n",
        "        plt.plot([min(data[\"y_real\"]), max(data[\"y_real\"])],\n",
        "                 [min(data[\"y_real\"]), max(data[\"y_real\"])],\n",
        "                 color=\"red\", linestyle=\"--\")  # Linha ideal\n",
        "        plt.xlabel(\"Valores Reais\")\n",
        "        plt.ylabel(\"Valores Preditos\")\n",
        "        plt.title(f\"{model} - {dataset_name}\")\n",
        "\n",
        "    plt.tight_layout()\n",
        "    plt.show()\n",
        "\n",
        "# Função para plotar erros residuais\n",
        "def plot_residuals(predictions, dataset_name):\n",
        "    plt.figure(figsize=(15, 5))\n",
        "\n",
        "    for i, (model, data) in enumerate(predictions.items()):\n",
        "        residuals = data[\"y_real\"] - data[\"y_pred\"]\n",
        "\n",
        "        plt.subplot(1, 3, i+1)\n",
        "        sns.histplot(residuals, kde=True, bins=30)\n",
        "        plt.axvline(x=0, color=\"red\", linestyle=\"--\")\n",
        "        plt.xlabel(\"Erro Residual\")\n",
        "        plt.ylabel(\"Frequência\")\n",
        "        plt.title(f\"{model} - {dataset_name}\")\n",
        "\n",
        "    plt.tight_layout()\n",
        "    plt.show()\n",
        "\n",
        "# Plotar gráficos para o dataset de seguro\n",
        "plot_scatter(preds_insurance, \"Seguro de Saúde\")\n",
        "plot_residuals(preds_insurance, \"Seguro de Saúde\")\n",
        "\n",
        "# Plotar gráficos para o dataset de imóveis\n",
        "plot_scatter(preds_boston, \"Imóveis Boston\")\n",
        "plot_residuals(preds_boston, \"Imóveis Boston\")\n",
        "\n",
        "# Plotar gráficos para o dataset de consumo de energia\n",
        "plot_scatter(preds_power, \"Consumo de Energia\")\n",
        "plot_residuals(preds_power, \"Consumo de Energia\")"
      ],
      "metadata": {
        "id": "H470_HOmm2op"
      },
      "execution_count": null,
      "outputs": []
    }
  ]
}